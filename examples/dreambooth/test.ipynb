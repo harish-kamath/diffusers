{
 "cells": [
  {
   "cell_type": "code",
   "execution_count": null,
   "metadata": {},
   "outputs": [],
   "source": [
    "# v1\n",
    "import torch\n",
    "from diffusers import StableDiffusionPipeline\n",
    "\n",
    "repo_id = \"v1_output\"\n",
    "device = \"cuda\"\n",
    "\n",
    "pipe = StableDiffusionPipeline.from_pretrained(repo_id, torch_dtype=torch.float16, revision=\"fp16\")\n",
    "pipe = pipe.to(device)\n",
    "\n",
    "prompt = \"a photo of sks dog\"\n",
    "image = pipe(prompt).images[0]\n",
    "display(image)"
   ]
  },
  {
   "cell_type": "code",
   "execution_count": null,
   "metadata": {},
   "outputs": [],
   "source": [
    "# v2\n",
    "from diffusers import DiffusionPipeline, EulerDiscreteScheduler\n",
    "import torch\n",
    "\n",
    "# repo_id = \"stabilityai/stable-diffusion-2\"\n",
    "repo_id = \"v2_model\"\n",
    "device = \"cuda\"\n",
    "\n",
    "scheduler = EulerDiscreteScheduler.from_pretrained(repo_id, subfolder=\"scheduler\", prediction_type=\"v_prediction\")\n",
    "pipe = DiffusionPipeline.from_pretrained(repo_id, torch_dtype=torch.float16, revision=\"fp16\", scheduler=scheduler)\n",
    "pipe = pipe.to(device)\n",
    "\n",
    "prompt = \"a photo of sks dog\"\n",
    "image = pipe(prompt, width=512, height=512, guidance_scale=9, num_inference_steps=100).images[0]\n",
    "display(image)"
   ]
  },
  {
   "cell_type": "code",
   "execution_count": null,
   "metadata": {},
   "outputs": [],
   "source": []
  }
 ],
 "metadata": {
  "kernelspec": {
   "display_name": "Python 3.8.15 ('dreambooth')",
   "language": "python",
   "name": "python3"
  },
  "language_info": {
   "codemirror_mode": {
    "name": "ipython",
    "version": 3
   },
   "file_extension": ".py",
   "mimetype": "text/x-python",
   "name": "python",
   "nbconvert_exporter": "python",
   "pygments_lexer": "ipython3",
   "version": "3.8.15"
  },
  "orig_nbformat": 4,
  "vscode": {
   "interpreter": {
    "hash": "9c29e3ac11efd25b284aff0c3a0502c2070e575a282387ca01a67f712ac532c5"
   }
  }
 },
 "nbformat": 4,
 "nbformat_minor": 2
}
